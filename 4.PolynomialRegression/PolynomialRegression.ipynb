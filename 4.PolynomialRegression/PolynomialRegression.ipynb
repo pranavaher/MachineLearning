{
  "nbformat": 4,
  "nbformat_minor": 0,
  "metadata": {
    "colab": {
      "provenance": []
    },
    "kernelspec": {
      "name": "python3",
      "display_name": "Python 3"
    },
    "language_info": {
      "name": "python"
    }
  },
  "cells": [
    {
      "cell_type": "markdown",
      "source": [
        "##Polynomial Regression"
      ],
      "metadata": {
        "id": "S8qxoHwXO6lB"
      }
    },
    {
      "cell_type": "markdown",
      "source": [
        "###Importing the libraries\n"
      ],
      "metadata": {
        "id": "X0aZaC-UPBQp"
      }
    },
    {
      "cell_type": "code",
      "source": [
        "import numpy as np\n",
        "import matplotlib.pyplot as plt\n",
        "import pandas as pd"
      ],
      "metadata": {
        "id": "TTL9udT4ZJc0"
      },
      "execution_count": 1,
      "outputs": []
    },
    {
      "cell_type": "markdown",
      "source": [
        "###Importing dataset\n",
        "\n",
        "\n"
      ],
      "metadata": {
        "id": "uTa6Fek1PBcg"
      }
    },
    {
      "cell_type": "code",
      "source": [
        "dataset = pd.read_csv(\"Position_Salaries.csv\")\n",
        "X = dataset.iloc[:,1:-1].values\n",
        "Y = dataset.iloc[:,-1].values"
      ],
      "metadata": {
        "id": "v6QAMT_9ZSLW"
      },
      "execution_count": 2,
      "outputs": []
    },
    {
      "cell_type": "markdown",
      "source": [
        "###Training the Linear Regression model on whole dataset"
      ],
      "metadata": {
        "id": "sukFMhFjPBio"
      }
    },
    {
      "cell_type": "code",
      "source": [
        "from sklearn.linear_model import LinearRegression\n",
        "lr = LinearRegression()\n",
        "lr.fit(X,Y);"
      ],
      "metadata": {
        "id": "NnBNGAz1Zxks"
      },
      "execution_count": 3,
      "outputs": []
    },
    {
      "cell_type": "markdown",
      "source": [
        "###Training the Polynomial Regression model on whole dataset"
      ],
      "metadata": {
        "id": "sDsq9ixbPBmy"
      }
    },
    {
      "cell_type": "code",
      "source": [
        "from sklearn.preprocessing import PolynomialFeatures\n",
        "pr = PolynomialFeatures(degree = 4)\n",
        "X_poly = pr.fit_transform(X)\n",
        "lr2 = LinearRegression()\n",
        "lr2.fit(X_poly, Y)"
      ],
      "metadata": {
        "colab": {
          "base_uri": "https://localhost:8080/"
        },
        "id": "IAxNEl3xaInz",
        "outputId": "078336ce-72c2-45ef-d8e8-daf721fb2aae"
      },
      "execution_count": 8,
      "outputs": [
        {
          "output_type": "execute_result",
          "data": {
            "text/plain": [
              "LinearRegression()"
            ]
          },
          "metadata": {},
          "execution_count": 8
        }
      ]
    },
    {
      "cell_type": "markdown",
      "source": [
        "###Visualising the Linear Regression results"
      ],
      "metadata": {
        "id": "L5adPF7hPBqf"
      }
    },
    {
      "cell_type": "code",
      "source": [
        "plt.scatter(X,Y, color = 'red')\n",
        "plt.plot(X,lr.predict(X), color = 'blue')\n",
        "plt.title(\"Linear Regression\")\n",
        "plt.xlabel('Prediction Level')\n",
        "plt.ylabel('Salary')\n",
        "plt.show()"
      ],
      "metadata": {
        "colab": {
          "base_uri": "https://localhost:8080/",
          "height": 295
        },
        "id": "r1CyyPd4eGXV",
        "outputId": "7719984c-4db7-4c4b-fcc0-1a0dcfdc15fa"
      },
      "execution_count": 12,
      "outputs": [
        {
          "output_type": "display_data",
          "data": {
            "text/plain": [
              "<Figure size 432x288 with 1 Axes>"
            ],
            "image/png": "[encoded data removed]"
          },
          "metadata": {
            "needs_background": "light"
          }
        }
      ]
    },
    {
      "cell_type": "markdown",
      "source": [
        "###Visualising the Polynomial Regression results"
      ],
      "metadata": {
        "id": "Y1FQw7gfPBsJ"
      }
    },
    {
      "cell_type": "code",
      "source": [
        "plt.scatter(X,Y, color = 'red')\n",
        "plt.plot(X, lr2.predict(X_poly), color = 'blue')\n",
        "plt.title(\"Polynomial Regression\")\n",
        "plt.xlabel('Prediction Level')\n",
        "plt.ylabel('Salary')\n",
        "plt.show()"
      ],
      "metadata": {
        "colab": {
          "base_uri": "https://localhost:8080/",
          "height": 295
        },
        "id": "ZmCFyzexeHLx",
        "outputId": "0facdf53-623c-447d-d9e1-7b9aee29a726"
      },
      "execution_count": 11,
      "outputs": [
        {
          "output_type": "display_data",
          "data": {
            "text/plain": [
              "<Figure size 432x288 with 1 Axes>"
            ],
            "image/png": "[encoded data removed]"
          },
          "metadata": {
            "needs_background": "light"
          }
        }
      ]
    },
    {
      "cell_type": "markdown",
      "source": [
        "###Visualising the Polynomial Regression results (for high resolution and smooth curve)"
      ],
      "metadata": {
        "id": "X1XuKeeHPBu2"
      }
    },
    {
      "cell_type": "code",
      "source": [
        "X_grid = np.arange(min(X), max(X), 0.1)\n",
        "X_grid = X_grid.reshape(len(X_grid), 1)\n",
        "plt.scatter(X, Y, color = 'red')\n",
        "plt.plot(X_grid, lr2.predict(pr.fit_transform(X_grid)), color = 'blue')\n",
        "plt.title(\"Polynomial Regression\")\n",
        "plt.xlabel('Position Level')\n",
        "plt.ylabel('Salary')\n",
        "plt.show()"
      ],
      "metadata": {
        "colab": {
          "base_uri": "https://localhost:8080/",
          "height": 295
        },
        "id": "yKvKtZIceHs9",
        "outputId": "4779fe11-113d-4819-dd20-de6fd907187d"
      },
      "execution_count": 10,
      "outputs": [
        {
          "output_type": "display_data",
          "data": {
            "text/plain": [
              "<Figure size 432x288 with 1 Axes>"
            ],
            "image/png": "[encoded data removed]"
          },
          "metadata": {
            "needs_background": "light"
          }
        }
      ]
    },
    {
      "cell_type": "markdown",
      "source": [
        "###Predicting new results with Linear Regression\n",
        "####Predicvting something like 6.5years"
      ],
      "metadata": {
        "id": "jAfg_psXPihi"
      }
    },
    {
      "cell_type": "code",
      "source": [
        "lr.predict([[6.5]])"
      ],
      "metadata": {
        "colab": {
          "base_uri": "https://localhost:8080/"
        },
        "id": "jsn3Ar1beIcj",
        "outputId": "521e16cf-5b1d-46dc-c746-e8c01e9fd00a"
      },
      "execution_count": 13,
      "outputs": [
        {
          "output_type": "execute_result",
          "data": {
            "text/plain": [
              "array([330378.78787879])"
            ]
          },
          "metadata": {},
          "execution_count": 13
        }
      ]
    },
    {
      "cell_type": "markdown",
      "source": [
        "###Predicting new results with Polynomial Regression"
      ],
      "metadata": {
        "id": "WlQPJKirPin2"
      }
    },
    {
      "cell_type": "code",
      "source": [
        "lr2.predict(pr.fit_transform([[6.5]]))"
      ],
      "metadata": {
        "colab": {
          "base_uri": "https://localhost:8080/"
        },
        "id": "kS9q29oxeI9y",
        "outputId": "143c7b9b-5970-4209-85ad-204b9532d88f"
      },
      "execution_count": 14,
      "outputs": [
        {
          "output_type": "execute_result",
          "data": {
            "text/plain": [
              "array([158862.45265155])"
            ]
          },
          "metadata": {},
          "execution_count": 14
        }
      ]
    }
  ]
}